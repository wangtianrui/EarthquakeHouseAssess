{
 "cells": [
  {
   "cell_type": "code",
   "execution_count": 1,
   "metadata": {},
   "outputs": [],
   "source": [
    "from utils.read_data import DataLoader\n",
    "import numpy as np \n",
    "import matplotlib.pyplot as plt\n",
    "import random\n",
    "import utils.pre_functions as pf"
   ]
  },
  {
   "cell_type": "code",
   "execution_count": 2,
   "metadata": {},
   "outputs": [],
   "source": [
    "dataloader = DataLoader()"
   ]
  },
  {
   "cell_type": "code",
   "execution_count": 3,
   "metadata": {},
   "outputs": [],
   "source": [
    "train_data,predict_data = dataloader.loadData()"
   ]
  },
  {
   "cell_type": "code",
   "execution_count": 4,
   "metadata": {},
   "outputs": [
    {
     "name": "stdout",
     "output_type": "stream",
     "text": [
      "(652936, 15) (400000, 14)\n"
     ]
    }
   ],
   "source": [
    "print(train_data.shape,predict_data.shape)"
   ]
  },
  {
   "cell_type": "code",
   "execution_count": 5,
   "metadata": {},
   "outputs": [
    {
     "name": "stdout",
     "output_type": "stream",
     "text": [
      "(652936, 15) (400000, 14)\n"
     ]
    }
   ],
   "source": [
    "train_data,predict_data = pf.dealWithNan(train_data,predict_data)\n",
    "print(train_data.shape,predict_data.shape)"
   ]
  },
  {
   "cell_type": "code",
   "execution_count": 6,
   "metadata": {},
   "outputs": [
    {
     "name": "stdout",
     "output_type": "stream",
     "text": [
      "(652936, 12) (652936,)\n"
     ]
    }
   ],
   "source": [
    "train_data,predict_data = pf.pca_function(train_data,predict_data,12)"
   ]
  },
  {
   "cell_type": "code",
   "execution_count": 7,
   "metadata": {},
   "outputs": [
    {
     "name": "stdout",
     "output_type": "stream",
     "text": [
      "(652936, 13) (400000, 12)\n"
     ]
    }
   ],
   "source": [
    "print(train_data.shape,predict_data.shape)"
   ]
  },
  {
   "cell_type": "code",
   "execution_count": 8,
   "metadata": {},
   "outputs": [],
   "source": [
    "from classifier.solver import Solver"
   ]
  },
  {
   "cell_type": "markdown",
   "metadata": {},
   "source": [
    "LogistSolver = Solver()\n",
    "\n",
    "LogistSolver.logisticTrain(\n",
    "    X_train = train_data ,\n",
    "    batch_size = 100 ,\n",
    "    maxStep = 100000 ,\n",
    "    log = True\n",
    ")\n",
    "\n",
    "0 -- accuracy: %f 0.63 \n",
    "\n",
    "50000 -- accuracy: %f 0.54\n",
    "\n",
    "99999 -- accuracy: %f 0.46"
   ]
  },
  {
   "cell_type": "markdown",
   "metadata": {},
   "source": [
    "RFsolver = Solver()\n",
    "\n",
    "RFsolver.randomForest(\n",
    "    X_train = train_data ,\n",
    "    log = True\n",
    ")\n",
    "\n",
    "-- accuracy: %f 0.674"
   ]
  },
  {
   "cell_type": "code",
   "execution_count": 9,
   "metadata": {},
   "outputs": [
    {
     "name": "stdout",
     "output_type": "stream",
     "text": [
      "accuracy:%f 0.888\n",
      "map score: %f 0.466\n",
      "最佳迭代次数： 1928\n"
     ]
    }
   ],
   "source": [
    "lgbSolver_origin = Solver()\n",
    "\n",
    "params = {\n",
    "    'boosting_type': 'gbdt',\n",
    "    'objective': 'multiclass',\n",
    "    'num_class': 4,\n",
    "    'metric': 'multi_error',\n",
    "    'num_leaves': 150,\n",
    "    'learning_rate': 0.1,\n",
    "    'feature_fraction': 0.8,\n",
    "    'bagging_fraction': 0.8,\n",
    "    'lambda_l1': 0.4,\n",
    "    'lambda_l2': 0.5,\n",
    "#     'min_gain_to_split': 0.2,\n",
    "    'verbose': 0\n",
    "#     'is_unbalance': True ,\n",
    "#     'bagging_freq': 5,\n",
    "#     'min_data_in_leaf': 100,\n",
    "}\n",
    "\n",
    "lgbSolver_origin.lgb_origin(\n",
    "    X_train = train_data ,\n",
    "    params = params ,\n",
    "    num_boost_round = 2000 ,\n",
    "    log = True\n",
    ")\n",
    "\n"
   ]
  },
  {
   "cell_type": "code",
   "execution_count": 10,
   "metadata": {},
   "outputs": [],
   "source": [
    "y_predict = lgbSolver_origin.predict(predict_data)\n",
    "dataloader.save_to_commit(y_predict)"
   ]
  },
  {
   "cell_type": "code",
   "execution_count": 13,
   "metadata": {},
   "outputs": [
    {
     "name": "stdout",
     "output_type": "stream",
     "text": [
      "[[3 2]\n",
      " [1 2]\n",
      " [3 2]\n",
      " ...\n",
      " [1 2]\n",
      " [3 2]\n",
      " [1 3]]\n",
      "[[3 2]\n",
      " [1 2]\n",
      " [3 2]\n",
      " ...\n",
      " [2 1]\n",
      " [3 2]\n",
      " [1 3]]\n",
      "0.85689875\n"
     ]
    }
   ],
   "source": [
    "dataloader.compare(\"100leaves.csv\",\"save.csv\")"
   ]
  },
  {
   "cell_type": "markdown",
   "metadata": {},
   "source": [
    "100 leaves : \n",
    "accuracy:%f 0.878\n",
    "map score: %f 0.4585\n",
    "最佳迭代次数： 1909"
   ]
  },
  {
   "cell_type": "code",
   "execution_count": null,
   "metadata": {},
   "outputs": [],
   "source": []
  }
 ],
 "metadata": {
  "kernelspec": {
   "display_name": "Python 3",
   "language": "python",
   "name": "python3"
  },
  "language_info": {
   "codemirror_mode": {
    "name": "ipython",
    "version": 3
   },
   "file_extension": ".py",
   "mimetype": "text/x-python",
   "name": "python",
   "nbconvert_exporter": "python",
   "pygments_lexer": "ipython3",
   "version": "3.5.5"
  },
  "widgets": {
   "application/vnd.jupyter.widget-state+json": {
    "state": {},
    "version_major": 2,
    "version_minor": 0
   }
  }
 },
 "nbformat": 4,
 "nbformat_minor": 1
}
