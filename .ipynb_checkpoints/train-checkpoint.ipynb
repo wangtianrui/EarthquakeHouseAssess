{
 "cells": [
  {
   "cell_type": "code",
   "execution_count": 1,
   "metadata": {},
   "outputs": [],
   "source": [
    "from utils.read_data import DataLoader\n",
    "import numpy as np \n",
    "import matplotlib.pyplot as plt\n",
    "import random\n",
    "import utils.pre_functions as pf"
   ]
  },
  {
   "cell_type": "code",
   "execution_count": 2,
   "metadata": {},
   "outputs": [],
   "source": [
    "dataloader = DataLoader()"
   ]
  },
  {
   "cell_type": "code",
   "execution_count": 3,
   "metadata": {},
   "outputs": [],
   "source": [
    "train_data,predict_data = dataloader.loadData()"
   ]
  },
  {
   "cell_type": "code",
   "execution_count": 4,
   "metadata": {},
   "outputs": [
    {
     "name": "stdout",
     "output_type": "stream",
     "text": [
      "(652936, 15) (400000, 14)\n"
     ]
    }
   ],
   "source": [
    "print(train_data.shape,predict_data.shape)"
   ]
  },
  {
   "cell_type": "code",
   "execution_count": 5,
   "metadata": {},
   "outputs": [
    {
     "name": "stdout",
     "output_type": "stream",
     "text": [
      "(652936, 15) (400000, 14)\n"
     ]
    }
   ],
   "source": [
    "train_data,predict_data = pf.dealWithNan(train_data,predict_data)\n",
    "print(train_data.shape,predict_data.shape)"
   ]
  },
  {
   "cell_type": "code",
   "execution_count": 6,
   "metadata": {},
   "outputs": [],
   "source": [
    "from classifier.solver import Solver"
   ]
  },
  {
   "cell_type": "markdown",
   "metadata": {},
   "source": [
    "LogistSolver = Solver()\n",
    "\n",
    "LogistSolver.logisticTrain(\n",
    "    X_train = train_data ,\n",
    "    batch_size = 100 ,\n",
    "    maxStep = 100000 ,\n",
    "    log = True\n",
    ")\n",
    "\n",
    "0 -- accuracy: %f 0.63 \n",
    "\n",
    "50000 -- accuracy: %f 0.54\n",
    "\n",
    "99999 -- accuracy: %f 0.46"
   ]
  },
  {
   "cell_type": "markdown",
   "metadata": {},
   "source": [
    "RFsolver = Solver()\n",
    "\n",
    "RFsolver.randomForest(\n",
    "    X_train = train_data ,\n",
    "    log = True\n",
    ")\n",
    "\n",
    "-- accuracy: %f 0.674"
   ]
  },
  {
   "cell_type": "markdown",
   "metadata": {},
   "source": [
    "```python\n",
    "lgbSolver = Solver()\n",
    "\n",
    "params = {\n",
    "    'boosting_type': 'gbdt',\n",
    "    'objective': 'multiclass',\n",
    "    'num_class': 4,\n",
    "    'metric': 'multi_error',\n",
    "    'num_leaves': 150,\n",
    "    'learning_rate': 0.01,\n",
    "    'feature_fraction': 0.8,\n",
    "    'bagging_fraction': 0.8,\n",
    "    'lambda_l1': 0.4,\n",
    "    'lambda_l2': 0.5,\n",
    "#     'min_gain_to_split': 0.2,\n",
    "    'verbose': 0\n",
    "#     'is_unbalance': True ,\n",
    "#     'bagging_freq': 5,\n",
    "#     'min_data_in_leaf': 100,\n",
    "}\n",
    "\n",
    "lgbSolver.lgb(\n",
    "    X_train = train_data ,\n",
    "    params = params ,\n",
    "    log = True\n",
    ")\n",
    "\n",
    "\"\"\"\n",
    "num_leaves : 150 -> accuracy : 0.7\n",
    "\"\"\"\n",
    "\n",
    "```"
   ]
  },
  {
   "cell_type": "code",
   "execution_count": 7,
   "metadata": {},
   "outputs": [
    {
     "name": "stderr",
     "output_type": "stream",
     "text": [
      "e:\\anaconda3\\envs\\mypython\\lib\\site-packages\\sklearn\\utils\\validation.py:475: DataConversionWarning: Data with input dtype int64 was converted to float64 by StandardScaler.\n",
      "  warnings.warn(msg, DataConversionWarning)\n"
     ]
    },
    {
     "name": "stdout",
     "output_type": "stream",
     "text": [
      "accuracy:%f 0.87\n",
      "map score: %f 0.46\n",
      "最佳迭代次数： 893\n"
     ]
    }
   ],
   "source": [
    "lgbSolver = Solver()\n",
    "\n",
    "params = {\n",
    "    'boosting_type': 'gbdt',\n",
    "    'objective': 'multiclass',\n",
    "    'num_class': 4,\n",
    "    'metric': 'multi_error',\n",
    "    'num_leaves': 250,\n",
    "    'learning_rate': 0.1,\n",
    "    'feature_fraction': 0.8,\n",
    "    'bagging_fraction': 0.8,\n",
    "    'lambda_l1': 0.4,\n",
    "    'lambda_l2': 0.5,\n",
    "#     'min_gain_to_split': 0.2,\n",
    "    'verbose': 0\n",
    "#     'is_unbalance': True ,\n",
    "#     'bagging_freq': 5,\n",
    "#     'min_data_in_leaf': 100,\n",
    "}\n",
    "\n",
    "lgbSolver.lgb(\n",
    "    X_train = train_data ,\n",
    "    params = params ,\n",
    "    num_boost_round = 953 ,\n",
    "    log = True\n",
    ")"
   ]
  },
  {
   "cell_type": "code",
   "execution_count": 8,
   "metadata": {},
   "outputs": [
    {
     "name": "stderr",
     "output_type": "stream",
     "text": [
      "e:\\anaconda3\\envs\\mypython\\lib\\site-packages\\sklearn\\utils\\validation.py:475: DataConversionWarning: Data with input dtype int64 was converted to float64 by StandardScaler.\n",
      "  warnings.warn(msg, DataConversionWarning)\n"
     ]
    },
    {
     "name": "stdout",
     "output_type": "stream",
     "text": [
      "        y1  y2\n",
      "0        3   2\n",
      "1        1   2\n",
      "2        3   0\n",
      "3        2   3\n",
      "4        1   0\n",
      "5        3   2\n",
      "6        3   2\n",
      "7        3   2\n",
      "8        3   2\n",
      "9        1   2\n",
      "10       1   2\n",
      "11       1   0\n",
      "12       3   2\n",
      "13       3   2\n",
      "14       1   3\n",
      "15       3   2\n",
      "16       1   0\n",
      "17       3   2\n",
      "18       3   2\n",
      "19       3   2\n",
      "20       1   0\n",
      "21       1   2\n",
      "22       0   1\n",
      "23       3   1\n",
      "24       1   0\n",
      "25       3   2\n",
      "26       1   0\n",
      "27       3   2\n",
      "28       1   2\n",
      "29       0   1\n",
      "...     ..  ..\n",
      "399970   1   3\n",
      "399971   1   2\n",
      "399972   3   2\n",
      "399973   3   2\n",
      "399974   1   2\n",
      "399975   1   3\n",
      "399976   3   1\n",
      "399977   3   0\n",
      "399978   2   3\n",
      "399979   1   0\n",
      "399980   2   1\n",
      "399981   3   2\n",
      "399982   2   1\n",
      "399983   1   2\n",
      "399984   2   3\n",
      "399985   3   1\n",
      "399986   2   3\n",
      "399987   3   0\n",
      "399988   3   2\n",
      "399989   3   2\n",
      "399990   1   2\n",
      "399991   3   2\n",
      "399992   2   1\n",
      "399993   2   1\n",
      "399994   3   2\n",
      "399995   3   2\n",
      "399996   3   2\n",
      "399997   2   1\n",
      "399998   3   2\n",
      "399999   1   2\n",
      "\n",
      "[400000 rows x 2 columns]\n"
     ]
    }
   ],
   "source": [
    "import pandas as pd\n",
    "test_pred = lgbSolver.predict(predict_data)\n",
    "pd_data = pd.DataFrame(np.array(test_pred),columns=[\"y1\",\"y2\"])\n",
    "print(pd_data)"
   ]
  },
  {
   "cell_type": "code",
   "execution_count": 9,
   "metadata": {},
   "outputs": [
    {
     "name": "stdout",
     "output_type": "stream",
     "text": [
      "[2 0 1]\n",
      "[[ 1  2  0]\n",
      " [ 0  6  7]\n",
      " [12  0 11]]\n",
      "[[2 1]\n",
      " [0 2]\n",
      " [1 0]]\n"
     ]
    }
   ],
   "source": [
    "test_array = np.array([[1,2,3],\n",
    "                       [50,6,7],\n",
    "                       [12,13,11]])\n",
    "first = np.argmax(test_array, axis=1)\n",
    "print(first)\n",
    "test_array[range(test_array.shape[0]),first] = 0\n",
    "print(test_array)\n",
    "second = np.argmax(test_array, axis=1).reshape(-1, 1)\n",
    "first = first.reshape(-1, 1)\n",
    "y_pred_test = np.append(first, second, axis=1)\n",
    "print(y_pred_test)"
   ]
  },
  {
   "cell_type": "code",
   "execution_count": 10,
   "metadata": {},
   "outputs": [],
   "source": [
    "import os\n",
    "\n",
    "approot = os.path.dirname(os.path.abspath(\"./EarthquakeHouseAssess\"))\n",
    "save_file = os.path.join(approot, \"data/save.csv\")\n",
    "pd_data.to_csv(save_file)"
   ]
  },
  {
   "cell_type": "code",
   "execution_count": null,
   "metadata": {},
   "outputs": [],
   "source": []
  }
 ],
 "metadata": {
  "kernelspec": {
   "display_name": "Python 3",
   "language": "python",
   "name": "python3"
  },
  "language_info": {
   "codemirror_mode": {
    "name": "ipython",
    "version": 3
   },
   "file_extension": ".py",
   "mimetype": "text/x-python",
   "name": "python",
   "nbconvert_exporter": "python",
   "pygments_lexer": "ipython3",
   "version": "3.5.5"
  },
  "widgets": {
   "application/vnd.jupyter.widget-state+json": {
    "state": {},
    "version_major": 2,
    "version_minor": 0
   }
  }
 },
 "nbformat": 4,
 "nbformat_minor": 1
}
